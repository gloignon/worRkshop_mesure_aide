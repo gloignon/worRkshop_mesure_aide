{
  "nbformat": 4,
  "nbformat_minor": 0,
  "metadata": {
    "colab": {
      "provenance": [],
      "authorship_tag": "ABX9TyPJJNxQmLpmp8ad5eMh6czr",
      "include_colab_link": true
    },
    "kernelspec": {
      "name": "python3",
      "display_name": "Python 3"
    },
    "language_info": {
      "name": "python"
    }
  },
  "cells": [
    {
      "cell_type": "markdown",
      "metadata": {
        "id": "view-in-github",
        "colab_type": "text"
      },
      "source": [
        "<a href=\"https://colab.research.google.com/github/gloignon/worRkshop_mesure_aide/blob/main/Copy_of_Doc_classify_1.ipynb\" target=\"_parent\"><img src=\"https://colab.research.google.com/assets/colab-badge.svg\" alt=\"Open In Colab\"/></a>"
      ]
    },
    {
      "cell_type": "code",
      "execution_count": null,
      "metadata": {
        "colab": {
          "base_uri": "https://localhost:8080/"
        },
        "id": "wCa4CPeXNtNf",
        "outputId": "1381dfb5-3811-4210-ffbe-e2014f68468e"
      },
      "outputs": [
        {
          "output_type": "stream",
          "name": "stdout",
          "text": [
            "Documents about cats:\n",
            "- This document talks about cats and how they like to play with toys.\n",
            "- An article about the habitat and varieties of cats around the world.\n",
            "- the truth about cats and dogs\n"
          ]
        },
        {
          "output_type": "stream",
          "name": "stderr",
          "text": [
            "[nltk_data] Downloading package punkt to /root/nltk_data...\n",
            "[nltk_data]   Package punkt is already up-to-date!\n",
            "[nltk_data] Downloading package stopwords to /root/nltk_data...\n",
            "[nltk_data]   Package stopwords is already up-to-date!\n"
          ]
        }
      ],
      "source": [
        "!pip indtall nltk\n",
        "import nltk\n",
        "import os\n",
        "from nltk.corpus import stopwords\n",
        "from nltk.tokenize import word_tokenize\n",
        "nltk.download('punkt')\n",
        "nltk.download('stopwords')\n",
        "\n",
        "# Example documents\n",
        "documents = [\n",
        "    \"This document talks about cats and how they like to play with toys.\",\n",
        "    \"This one discusses the habits of dogs and why they bark.\",\n",
        "    \"An article about the habitat and varieties of cats around the world.\",\n",
        "    \"A study regarding the behaviors of birds in urban environments.\",\n",
        "    \"the truth about cats and dogs\"\n",
        "]\n",
        "\n",
        "# Keyword related to the topic 'cats'\n",
        "keywords = [\"cat\", \"kitten\", \"feline\", \"cats\"]\n",
        "\n",
        "# Filtering documents about cats\n",
        "def is_about_cats(doc):\n",
        "    words = word_tokenize(doc.lower())  # Tokenize and lower the text\n",
        "    words = [word for word in words if word not in stopwords.words('english')]  # Remove stopwords\n",
        "    return any(keyword in words for keyword in keywords)\n",
        "\n",
        "# Applying the filter to the documents\n",
        "cat_documents = [doc for doc in documents if is_about_cats(doc)]\n",
        "\n",
        "# Displaying filtered documents\n",
        "print(\"Documents about cats:\")\n",
        "for doc in cat_documents:\n",
        "    print(f\"- {doc}\")\n"
      ]
    },
    {
      "cell_type": "code",
      "source": [
        "!pip install spacy\n",
        "!pyhon -m spacy download en_core_web_md"
      ],
      "metadata": {
        "id": "6Skc7ZUiPj_E"
      },
      "execution_count": null,
      "outputs": []
    },
    {
      "cell_type": "code",
      "source": [
        "\n",
        "\n",
        "import spacy\n",
        "import numpy as np\n",
        "\n",
        "# Load pre-trained spaCy model\n",
        "nlp = spacy.load(\"en_core_web_md\")\n",
        "\n",
        "# Example documents\n",
        "documents = [\n",
        "    \"This document talks about cats and how they like to play with toys.\",\n",
        "    \"This one discusses the habits of dogs and why they bark.\",\n",
        "    \"An article about the habitat and varieties of cats around the world.\",\n",
        "    \"A study regarding the behaviors of birds in urban environments.\",\n",
        "]\n",
        "\n",
        "# Create a reference vector for 'cats'\n",
        "cat_vector = nlp(\"cats\").vector\n",
        "\n",
        "# Function to calculate cosine similarity\n",
        "def cosine_similarity(vec_a, vec_b):\n",
        "    return np.dot(vec_a, vec_b) / (np.linalg.norm(vec_a) * np.linalg.norm(vec_b))\n",
        "\n",
        "# Define a function to check if document is about cats using cosine similarity\n",
        "def is_about_cats(doc, threshold=0.9):\n",
        "    doc_nlp = nlp(doc)\n",
        "    for token in doc_nlp:\n",
        "        if token.has_vector and cosine_similarity(token.vector, cat_vector) > threshold:\n",
        "            return True\n",
        "    return False\n",
        "\n",
        "# Filter and display documents related to cats\n",
        "cat_documents = [doc for doc in documents if is_about_cats(doc)]\n",
        "\n",
        "print(\"Documents about cats:\")\n",
        "for doc in cat_documents:\n",
        "    print(f\"- {doc}\")\n"
      ],
      "metadata": {
        "colab": {
          "base_uri": "https://localhost:8080/"
        },
        "id": "JUTnOb_GP5qe",
        "outputId": "050b36d8-c851-4583-9bc1-d316b302d35f"
      },
      "execution_count": null,
      "outputs": [
        {
          "output_type": "stream",
          "name": "stdout",
          "text": [
            "Documents about cats:\n",
            "- This document talks about cats and how they like to play with toys.\n",
            "- An article about the habitat and varieties of cats around the world.\n"
          ]
        }
      ]
    }
  ]
}